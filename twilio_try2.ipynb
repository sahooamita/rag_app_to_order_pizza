{
 "cells": [
  {
   "cell_type": "code",
   "execution_count": 7,
   "metadata": {},
   "outputs": [],
   "source": [
    "from twilio.rest import Client\n",
    "from twilio.twiml.voice_response import VoiceResponse\n",
    "import requests\n",
    "\n",
    "account_sid = ' '\n",
    "# auth_token = ' '\n",
    "auth_token = ' '\n",
    "\n",
    "\n",
    "\n",
    "\n"
   ]
  },
  {
   "cell_type": "code",
   "execution_count": 4,
   "metadata": {},
   "outputs": [
    {
     "name": "stdout",
     "output_type": "stream",
     "text": [
      "+12345622492\n"
     ]
    }
   ],
   "source": [
    "client = Client(account_sid, auth_token)\n",
    "from_number = '+12345622492'\n",
    "to_phone_number = \"+ \"\n",
    "# Retrieve all verified numbers\n",
    "verified_numbers = client.incoming_phone_numbers.list()\n",
    "\n",
    "# Print the verified numbers\n",
    "for number in verified_numbers:\n",
    "    print(number.phone_number)"
   ]
  },
  {
   "cell_type": "code",
   "execution_count": 47,
   "metadata": {},
   "outputs": [
    {
     "name": "stdout",
     "output_type": "stream",
     "text": [
      "<?xml version=\"1.0\" encoding=\"UTF-8\"?><Response><Record maxLength=\"5\" playBeep=\"true\" recordingStatusCallback=\"/twilio_recording\" /><Say>Which kind of Pizza do you want?</Say><Record maxLength=\"5\" playBeep=\"true\" recordingStatusCallback=\"/twilio_recording\" /><Say>What is the address to deliver the pizza?</Say><Record maxLength=\"5\" playBeep=\"true\" recordingStatusCallback=\"/twilio_recording\" /><Say>Thank you so much for the order of pizza, it will be there in 20mins</Say></Response>\n",
      "Call SID: CA4884448f9b650deb76b0656bb4aa7ecc\n"
     ]
    }
   ],
   "source": [
    "global fromNumber, toNumber\n",
    "fromNumber = ' ' #request.args.get('From')\n",
    "toNumber = '+ '#request.args.get('To')\n",
    "resp = VoiceResponse()\n",
    "# resp.say(\"Hi this is Akash Pizza ordering assistant. He wants to order a pizza\")\n",
    "# resp.record(play_beep='true', max_length=5, recording_status_callback=\"/twilio_recording\", )\n",
    "resp.record(play_beep='true', max_length=5, recording_status_callback=\"/twilio_recording\", )\n",
    "\n",
    "# Use the Say verb to ask for the delivery address\n",
    "resp.play('https://filebin.net/epyd18yag8gylu9k/0.wav')\n",
    "resp.say(\"Which kind of Pizza do you want?\")\n",
    "resp.play('https://filebin.net/epyd18yag8gylu9k/1.wav')\n",
    "# resp.record(play_beep='true', max_length=5, recording_status_callback=\"/twilio_recording\", ) # We can play resp.play('https://filebin.net/4bov8fw0tn7vsuek/1_Hi_what_is_the_weather.wav')\n",
    "resp.say(\"What is the address to deliver the pizza?\")\n",
    "resp.play('https://filebin.net/epyd18yag8gylu9k/2.wav')\n",
    "# resp.record(play_beep='true', max_length=5, recording_status_callback=\"/twilio_recording\", ) #resp.play('https://filebin.net/4bov8fw0tn7vsuek/1_Hi_what_is_the_weather.wav')\n",
    "resp.say(\"Thank you so much for the order of pizza, it will be there in 20mins\")\n",
    "print(str(resp))\n",
    "call = client.calls.create(\n",
    "    twiml=str(resp),\n",
    "    to=to_phone_number,\n",
    "    from_=from_number,  # Your Twilio phone number\n",
    "    status_callback=\"http://54.144.222.116:8001/logs\",\n",
    "    status_callback_method=\"GET\",\n",
    "    status_callback_event=[\"in-progress\"]\n",
    ")\n",
    "print(f\"Call SID: {call.sid}\")"
   ]
  },
  {
   "cell_type": "code",
   "execution_count": 48,
   "metadata": {},
   "outputs": [
    {
     "name": "stdout",
     "output_type": "stream",
     "text": [
      "Request was successful!\n",
      "Response content:\n",
      "Received URL:  1060 South Road Street.\n",
      "Request was successful!\n",
      "Response content:\n",
      "Received URL:  chicken pizza I want to order.\n",
      "Request was successful!\n",
      "Response content:\n",
      "Received URL:  Stephen,ましょう.\n",
      "Request was successful!\n",
      "Response content:\n",
      "Received URL:  and 6P4C\n"
     ]
    }
   ],
   "source": [
    "lst_recordings = client.recordings.list()\n",
    "# for recording in lst_recordings:\n",
    "    # print(recording.media_url)\n",
    "for i in range(4):\n",
    "    url_poi = lst_recordings[i].media_url\n",
    "    # print(url_poi)\n",
    "    base_url = 'http://54.144.222.116:8001/download_url?url='\n",
    "    response = requests.get(base_url+url_poi)\n",
    "\n",
    "    if response.status_code == 200:\n",
    "        print(\"Request was successful!\")\n",
    "        print(\"Response content:\")\n",
    "        print(response.text)\n",
    "    else:\n",
    "        print(f\"Failed to make GET request. Status code: {response.status_code}\")\n"
   ]
  },
  {
   "cell_type": "code",
   "execution_count": null,
   "metadata": {},
   "outputs": [],
   "source": []
  },
  {
   "cell_type": "code",
   "execution_count": 35,
   "metadata": {},
   "outputs": [],
   "source": [
    "import twilio.twiml\n",
    "import twilio.rest\n",
    "resp = twilio.twiml.voice_response.VoiceResponse()"
   ]
  },
  {
   "cell_type": "code",
   "execution_count": 37,
   "metadata": {},
   "outputs": [
    {
     "name": "stdout",
     "output_type": "stream",
     "text": [
      "<?xml version=\"1.0\" encoding=\"UTF-8\"?><Response><Dial><Conference endConferenceOnExit=\"true\" startConferenceOnEnter=\"true\">ongoing_call_room</Conference></Dial></Response>\n"
     ]
    }
   ],
   "source": [
    "from twilio.twiml.voice_response import VoiceResponse\n",
    "\n",
    "response = VoiceResponse()\n",
    "\n",
    "# Use the Dial verb to respond to an ongoing call\n",
    "with response.dial() as dial:\n",
    "    dial.conference('ongoing_call_room', start_conference_on_enter=True, end_conference_on_exit=True)\n",
    "\n",
    "print(str(response))"
   ]
  },
  {
   "cell_type": "code",
   "execution_count": 38,
   "metadata": {},
   "outputs": [
    {
     "data": {
      "text/plain": [
       "<twilio.twiml.voice_response.Say at 0x1214adbb0>"
      ]
     },
     "execution_count": 38,
     "metadata": {},
     "output_type": "execute_result"
    }
   ],
   "source": [
    "from twilio.twiml.voice_response import VoiceResponse, Gather, Say\n",
    "\n",
    "response = VoiceResponse()\n",
    "\n",
    "# Use the Say verb to ask for the delivery address\n",
    "response.say(\"Hello! This is your pizza delivery service. Please provide the delivery address after the beep.\")\n"
   ]
  },
  {
   "cell_type": "code",
   "execution_count": 49,
   "metadata": {},
   "outputs": [
    {
     "name": "stdout",
     "output_type": "stream",
     "text": [
      "Recording 10 seconds of audio...\n",
      "Audio recorded and saved to akash.wav\n"
     ]
    }
   ],
   "source": [
    "import sounddevice as sd\n",
    "import numpy as np\n",
    "import wave\n",
    "\n",
    "def record_wav(filename, duration=10, samplerate=44100):\n",
    "    print(f\"Recording {duration} seconds of audio...\")\n",
    "    \n",
    "    # Record audio\n",
    "    audio_data = sd.rec(int(samplerate * duration), samplerate=samplerate, channels=1, dtype=np.int16)\n",
    "    sd.wait()\n",
    "\n",
    "    # Save audio to WAV file\n",
    "    wave_file = wave.open(filename, 'wb')\n",
    "    wave_file.setnchannels(1)\n",
    "    wave_file.setsampwidth(2)  # 2 bytes (16-bit) for int16 dtype\n",
    "    wave_file.setframerate(samplerate)\n",
    "    wave_file.writeframes(audio_data.tobytes())\n",
    "    wave_file.close()\n",
    "\n",
    "    print(f\"Audio recorded and saved to {filename}\")\n",
    "\n",
    "# if __name__ == \"__main__\":\n",
    "output_filename = \"akash.wav\"\n",
    "record_wav(output_filename, duration=10)\n"
   ]
  },
  {
   "cell_type": "code",
   "execution_count": null,
   "metadata": {},
   "outputs": [],
   "source": []
  }
 ],
 "metadata": {
  "kernelspec": {
   "display_name": "hack",
   "language": "python",
   "name": "python3"
  },
  "language_info": {
   "codemirror_mode": {
    "name": "ipython",
    "version": 3
   },
   "file_extension": ".py",
   "mimetype": "text/x-python",
   "name": "python",
   "nbconvert_exporter": "python",
   "pygments_lexer": "ipython3",
   "version": "3.9.13"
  }
 },
 "nbformat": 4,
 "nbformat_minor": 2
}
